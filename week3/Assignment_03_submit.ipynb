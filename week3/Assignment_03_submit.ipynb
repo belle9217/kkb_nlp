{
 "cells": [
  {
   "cell_type": "markdown",
   "metadata": {
    "colab_type": "text",
    "id": "QbeC34Ocjivy"
   },
   "source": [
    "## Assignment-03 First Step of Machine Learning: Model and Evaluation"
   ]
  },
  {
   "cell_type": "markdown",
   "metadata": {
    "colab_type": "text",
    "id": "2ZQJ5isKjiv4"
   },
   "source": [
    "同学们，今天我们的学习了基本的机器学习概念，相比你已经对机器学习的这些方法有一个基本的认识了。值得说明的是，机器学习不仅仅是一系列方法，更重要的是一种思维体系，即：依据以往的、现有的数据，构建某种方法来解决未见过的问题。而且决策树，贝叶斯只是实现这个目标的一个方法，包括之后的神经网络。很有可能有一天，神经网络也会被淘汰，但是重要的是我们要理解机器学习的目标，就是尽可能的自动化解决未知的问题。"
   ]
  },
  {
   "cell_type": "markdown",
   "metadata": {
    "colab_type": "text",
    "id": "Yc2QgEx0jiv6"
   },
   "source": [
    "![](https://timgsa.baidu.com/timg?image&quality=80&size=b9999_10000&sec=1571556399207&di=4a97dc15ad08dd49d3748d1edf6109b3&imgtype=0&src=http%3A%2F%2Fc.hiphotos.baidu.com%2Fzhidao%2Fwh%3D450%2C600%2Fsign%3Dae742c6aedcd7b89e93932873a146e91%2F5d6034a85edf8db1b16050c40223dd54574e74c7.jpg)"
   ]
  },
  {
   "cell_type": "markdown",
   "metadata": {
    "colab_type": "text",
    "id": "9l7uyRBujiv8"
   },
   "source": [
    "## Part-1 Programming Review 编程回顾"
   ]
  },
  {
   "cell_type": "markdown",
   "metadata": {
    "colab_type": "text",
    "id": "8mXil2bwjiv9"
   },
   "source": [
    "#### 1. Re-code the Linear-Regression Model using scikit-learning(10 points)"
   ]
  },
  {
   "cell_type": "markdown",
   "metadata": {
    "colab_type": "text",
    "id": "s00FXCDtjiv_"
   },
   "source": [
    "<评阅点>： \n",
    "> + 是否完成线性回归模型 (4')\n",
    "+ 能够进行预测新数据(3')\n",
    "+ 能够进行可视化操作(3')"
   ]
  },
  {
   "cell_type": "code",
   "execution_count": 1,
   "metadata": {
    "colab": {
     "base_uri": "https://localhost:8080/",
     "height": 35
    },
    "colab_type": "code",
    "id": "JPrLpJXljiwB",
    "outputId": "ba7a3390-b8cb-4b3b-bda4-785415fd8b42"
   },
   "outputs": [
    {
     "data": {
      "text/plain": [
       "LinearRegression(copy_X=True, fit_intercept=True, n_jobs=1, normalize=False)"
      ]
     },
     "execution_count": 1,
     "metadata": {},
     "output_type": "execute_result"
    }
   ],
   "source": [
    "from sklearn.linear_model import LinearRegression\n",
    "import numpy as np\n",
    "import matplotlib.pyplot as plt\n",
    "%matplotlib inline\n",
    "\n",
    "x = np.random.random(100)\n",
    "y = 13.14 * x + 5 + np.random.randint(-5,5,100)\n",
    "x_train, y_train = x.reshape(-1,1), y.reshape(-1,1)\n",
    "reg = LinearRegression()\n",
    "reg.fit(x_train, y_train)"
   ]
  },
  {
   "cell_type": "code",
   "execution_count": 2,
   "metadata": {
    "colab": {
     "base_uri": "https://localhost:8080/",
     "height": 35
    },
    "colab_type": "code",
    "id": "44rBo8mWqWpX",
    "outputId": "d709cc95-b657-4174-fb95-f107d4be17bf"
   },
   "outputs": [
    {
     "name": "stdout",
     "output_type": "stream",
     "text": [
      "0.6930223304468446\n"
     ]
    }
   ],
   "source": [
    "#模型的预测准确度得分\n",
    "print(reg.score(x_train,y_train))"
   ]
  },
  {
   "cell_type": "code",
   "execution_count": 3,
   "metadata": {
    "colab": {
     "base_uri": "https://localhost:8080/",
     "height": 283
    },
    "colab_type": "code",
    "id": "uJlkLmQ-qaoz",
    "outputId": "3e7857ea-84f1-4ac4-b123-622e89957fd6"
   },
   "outputs": [
    {
     "data": {
      "text/plain": [
       "[<matplotlib.lines.Line2D at 0x7f47dcde4ba8>]"
      ]
     },
     "execution_count": 3,
     "metadata": {},
     "output_type": "execute_result"
    },
    {
     "data": {
      "image/png": "[encoded data removed]",
      "text/plain": [
       "<Figure size 432x288 with 1 Axes>"
      ]
     },
     "metadata": {},
     "output_type": "display_data"
    }
   ],
   "source": [
    "#可视化操作\n",
    "y_pred = reg.predict(x_train)\n",
    "plt.scatter(x_train, y_train)\n",
    "plt.plot(x_train, y_pred, color='red')"
   ]
  },
  {
   "cell_type": "code",
   "execution_count": 4,
   "metadata": {
    "colab": {
     "base_uri": "https://localhost:8080/",
     "height": 35
    },
    "colab_type": "code",
    "id": "N1l1L9PWq1qD",
    "outputId": "89f720f0-02eb-43aa-d8da-b4474a43d016"
   },
   "outputs": [
    {
     "data": {
      "text/plain": [
       "array([[21.86626135]])"
      ]
     },
     "execution_count": 4,
     "metadata": {},
     "output_type": "execute_result"
    }
   ],
   "source": [
    "#预测新的数据点\n",
    "reg.predict([[1.3]])"
   ]
  },
  {
   "cell_type": "markdown",
   "metadata": {
    "colab_type": "text",
    "id": "aMQiMB1cjiwK"
   },
   "source": [
    "<评阅点>:\n",
    "> + 是否完成了KNN模型 (4')\n",
    "+ 是否能够预测新的数据 (4')"
   ]
  },
  {
   "cell_type": "markdown",
   "metadata": {
    "colab_type": "text",
    "id": "EDQnorZcjiwI"
   },
   "source": [
    "#### 2. Complete the unfinished KNN Model using pure python to solve the previous Line-Regression problem. (8 points)"
   ]
  },
  {
   "cell_type": "code",
   "execution_count": 5,
   "metadata": {
    "colab": {},
    "colab_type": "code",
    "id": "Ydaj09gmjiwL"
   },
   "outputs": [],
   "source": [
    "def knn(x, y):\n",
    "  return [(xi, yi) for xi, yi in zip(x,y)]"
   ]
  },
  {
   "cell_type": "code",
   "execution_count": 6,
   "metadata": {
    "colab": {},
    "colab_type": "code",
    "id": "KfMDe5xRsIRk"
   },
   "outputs": [],
   "source": [
    "def distance(x1, x2):\n",
    "  return abs(x1-x2)"
   ]
  },
  {
   "cell_type": "code",
   "execution_count": 7,
   "metadata": {
    "colab": {},
    "colab_type": "code",
    "id": "TP1ziGdzsBcl"
   },
   "outputs": [],
   "source": [
    "from collections import Counter\n",
    "def predict(x, k=5):\n",
    "  most_similars = sorted(knn(x_train, y_train), key=lambda xi:distance(x,xi[0]))[:k]\n",
    "  y_hat = [y_ for x_, y_ in most_similars]\n",
    "  return np.mean(y_hat)"
   ]
  },
  {
   "cell_type": "code",
   "execution_count": 8,
   "metadata": {
    "colab": {
     "base_uri": "https://localhost:8080/",
     "height": 917
    },
    "colab_type": "code",
    "id": "MAc5PucF_P_j",
    "outputId": "4f33e05c-9bb1-41e8-cc38-d080c8fa1288"
   },
   "outputs": [
    {
     "name": "stdout",
     "output_type": "stream",
     "text": [
      "0\n",
      "Predict 0.87 using LinearRegression:16.08\n",
      "Predict 0.87 using KNN:17.69\n",
      "\n",
      "\n",
      "1\n",
      "Predict 0.67 using LinearRegression:13.26\n",
      "Predict 0.67 using KNN:13.41\n",
      "\n",
      "\n",
      "2\n",
      "Predict 0.72 using LinearRegression:13.98\n",
      "Predict 0.72 using KNN:13.95\n",
      "\n",
      "\n",
      "3\n",
      "Predict 0.22 using LinearRegression:7.20\n",
      "Predict 0.22 using KNN:7.73\n",
      "\n",
      "\n",
      "4\n",
      "Predict 0.59 using LinearRegression:12.15\n",
      "Predict 0.59 using KNN:11.31\n",
      "\n",
      "\n",
      "5\n",
      "Predict 0.59 using LinearRegression:12.19\n",
      "Predict 0.59 using KNN:11.27\n",
      "\n",
      "\n",
      "6\n",
      "Predict 0.12 using LinearRegression:5.74\n",
      "Predict 0.12 using KNN:3.74\n",
      "\n",
      "\n",
      "7\n",
      "Predict 0.50 using LinearRegression:10.94\n",
      "Predict 0.50 using KNN:10.02\n",
      "\n",
      "\n",
      "8\n",
      "Predict 0.41 using LinearRegression:9.72\n",
      "Predict 0.41 using KNN:11.85\n",
      "\n",
      "\n",
      "9\n",
      "Predict 0.46 using LinearRegression:10.38\n",
      "Predict 0.46 using KNN:10.92\n",
      "\n",
      "\n"
     ]
    }
   ],
   "source": [
    "#使用LinearRegression/knn预测新数据\n",
    "for i in range(10):\n",
    "  x_test = np.random.random()\n",
    "  print(i)\n",
    "  print(\"Predict {:.2f} using LinearRegression:{:.2f}\".format(x_test, reg.predict([[x_test]])[0][0]))\n",
    "  print(\"Predict {:.2f} using KNN:{:.2f}\".format(x_test, predict(x_test)))\n",
    "  print('\\n')\n"
   ]
  },
  {
   "cell_type": "markdown",
   "metadata": {
    "colab_type": "text",
    "id": "kYH9vINGjiwS"
   },
   "source": [
    "\n",
    "#### 3. Re-code the Decision Tree, which could sort the features by salience. (12 points)"
   ]
  },
  {
   "cell_type": "markdown",
   "metadata": {
    "colab_type": "text",
    "id": "-OJeMR-LjiwX"
   },
   "source": [
    "<评阅点>\n",
    "> + 是否实现了信息熵 (1' )\n",
    "+ 是否实现了最优先特征点的选择(5')\n",
    "+ 是否实现了持续的特征选则(6')"
   ]
  },
  {
   "cell_type": "code",
   "execution_count": 9,
   "metadata": {
    "colab": {},
    "colab_type": "code",
    "id": "QXn56RtnjiwZ"
   },
   "outputs": [],
   "source": [
    "import pandas as pd\n",
    "mock_data = {\n",
    "    'gender':['F', 'F', 'F', 'F', 'M', 'M', 'M'],\n",
    "    'income': ['+10', '-10', '+10', '+10', '+10', '+10', '-10'],\n",
    "    'family_number': [1, 1, 2, 1, 1, 1, 2],\n",
    "    #'pet': [1, 1, 1, 0, 0, 0, 1],\n",
    "    'bought': [1, 1, 1, 0, 0, 0, 1],\n",
    "}\n",
    "data = pd.DataFrame(mock_data)"
   ]
  },
  {
   "cell_type": "code",
   "execution_count": 10,
   "metadata": {
    "colab": {},
    "colab_type": "code",
    "id": "A1rD8qfqCFhQ"
   },
   "outputs": [],
   "source": [
    "from collections import Counter\n",
    "def entropy(elements):\n",
    "  counter = Counter(elements)\n",
    "  probs = []\n",
    "  for e in set(elements):\n",
    "    probs.append(counter[e] / len(elements))\n",
    "  return -sum(p*np.log(p) for p in probs) "
   ]
  },
  {
   "cell_type": "code",
   "execution_count": 11,
   "metadata": {
    "colab": {
     "base_uri": "https://localhost:8080/",
     "height": 35
    },
    "colab_type": "code",
    "id": "OH-1LFg9Cu5j",
    "outputId": "f21a89cd-6b66-451a-e56a-4cf25de3d3d8"
   },
   "outputs": [
    {
     "data": {
      "text/plain": [
       "1.0397207708399179"
      ]
     },
     "execution_count": 11,
     "metadata": {},
     "output_type": "execute_result"
    }
   ],
   "source": [
    "entropy([1,2,0,1])"
   ]
  },
  {
   "cell_type": "code",
   "execution_count": 12,
   "metadata": {
    "colab": {
     "base_uri": "https://localhost:8080/",
     "height": 266
    },
    "colab_type": "code",
    "id": "T0LQk2lRCxx4",
    "outputId": "646729bd-430d-4682-df0f-247f9dd9544e"
   },
   "outputs": [
    {
     "data": {
      "text/html": [
       "<div>\n",
       "<style scoped>\n",
       "    .dataframe tbody tr th:only-of-type {\n",
       "        vertical-align: middle;\n",
       "    }\n",
       "\n",
       "    .dataframe tbody tr th {\n",
       "        vertical-align: top;\n",
       "    }\n",
       "\n",
       "    .dataframe thead th {\n",
       "        text-align: right;\n",
       "    }\n",
       "</style>\n",
       "<table border=\"1\" class=\"dataframe\">\n",
       "  <thead>\n",
       "    <tr style=\"text-align: right;\">\n",
       "      <th></th>\n",
       "      <th>bought</th>\n",
       "      <th>family_number</th>\n",
       "      <th>gender</th>\n",
       "      <th>income</th>\n",
       "    </tr>\n",
       "  </thead>\n",
       "  <tbody>\n",
       "    <tr>\n",
       "      <th>0</th>\n",
       "      <td>1</td>\n",
       "      <td>1</td>\n",
       "      <td>F</td>\n",
       "      <td>+10</td>\n",
       "    </tr>\n",
       "    <tr>\n",
       "      <th>1</th>\n",
       "      <td>1</td>\n",
       "      <td>1</td>\n",
       "      <td>F</td>\n",
       "      <td>-10</td>\n",
       "    </tr>\n",
       "    <tr>\n",
       "      <th>2</th>\n",
       "      <td>1</td>\n",
       "      <td>2</td>\n",
       "      <td>F</td>\n",
       "      <td>+10</td>\n",
       "    </tr>\n",
       "    <tr>\n",
       "      <th>3</th>\n",
       "      <td>0</td>\n",
       "      <td>1</td>\n",
       "      <td>F</td>\n",
       "      <td>+10</td>\n",
       "    </tr>\n",
       "    <tr>\n",
       "      <th>4</th>\n",
       "      <td>0</td>\n",
       "      <td>1</td>\n",
       "      <td>M</td>\n",
       "      <td>+10</td>\n",
       "    </tr>\n",
       "    <tr>\n",
       "      <th>5</th>\n",
       "      <td>0</td>\n",
       "      <td>1</td>\n",
       "      <td>M</td>\n",
       "      <td>+10</td>\n",
       "    </tr>\n",
       "    <tr>\n",
       "      <th>6</th>\n",
       "      <td>1</td>\n",
       "      <td>2</td>\n",
       "      <td>M</td>\n",
       "      <td>-10</td>\n",
       "    </tr>\n",
       "  </tbody>\n",
       "</table>\n",
       "</div>"
      ],
      "text/plain": [
       "   bought  family_number gender income\n",
       "0       1              1      F    +10\n",
       "1       1              1      F    -10\n",
       "2       1              2      F    +10\n",
       "3       0              1      F    +10\n",
       "4       0              1      M    +10\n",
       "5       0              1      M    +10\n",
       "6       1              2      M    -10"
      ]
     },
     "execution_count": 12,
     "metadata": {},
     "output_type": "execute_result"
    }
   ],
   "source": [
    "data"
   ]
  },
  {
   "cell_type": "code",
   "execution_count": 13,
   "metadata": {
    "colab": {},
    "colab_type": "code",
    "id": "23y9WBfgD5be"
   },
   "outputs": [],
   "source": [
    "def optimal_split(dataset, target):\n",
    "  x_fields = set(dataset.columns.tolist()) - {target}\n",
    "  spliter = None\n",
    "  min_entropy = float('inf')\n",
    "\n",
    "  for f in x_fields:\n",
    "    values = set(dataset[f])\n",
    "    if len(values) == 1:\n",
    "      continue\n",
    "    for v in values:\n",
    "      sub_spliter1 = dataset[dataset[f] == v][target].tolist()\n",
    "      sub_spliter2 = dataset[dataset[f] != v][target].tolist()\n",
    "      entropy_v = entropy(sub_spliter1) + entropy(sub_spliter2)\n",
    "      if entropy_v < min_entropy:\n",
    "        min_entropy = entropy_v\n",
    "        spliter = (f,v)\n",
    "  # print(\"spliter:{0}, entropy:{1:.2f}\".format(spliter, min_entropy))\n",
    "  return min_entropy, spliter\n",
    "\n"
   ]
  },
  {
   "cell_type": "code",
   "execution_count": 14,
   "metadata": {
    "colab": {
     "base_uri": "https://localhost:8080/",
     "height": 35
    },
    "colab_type": "code",
    "id": "DdP1pYAJMdkN",
    "outputId": "30e69011-3ac4-4d1c-bb57-011237fc2403"
   },
   "outputs": [
    {
     "data": {
      "text/plain": [
       "(-0.0, ('gender', 'F'))"
      ]
     },
     "execution_count": 14,
     "metadata": {},
     "output_type": "execute_result"
    }
   ],
   "source": [
    "optimal_split(data[data['income']=='-10'], 'bought')"
   ]
  },
  {
   "cell_type": "code",
   "execution_count": 15,
   "metadata": {
    "colab": {},
    "colab_type": "code",
    "id": "KRbd80hyNusQ"
   },
   "outputs": [],
   "source": [
    "def split_all(dataset,target):\n",
    "  datas = [dataset]\n",
    "  spliters = []\n",
    "  while datas:\n",
    "    d = datas.pop(0)\n",
    "    min_entropy, spliter = optimal_split(d, target)\n",
    "    if min_entropy < 0.001 or min_entropy is float('inf'):\n",
    "      continue\n",
    "    if spliter is None:\n",
    "      continue\n",
    "    f, v = spliter\n",
    "    spliters.append(spliter)\n",
    "    dataset1 = d[d[f] == v]\n",
    "    dataset2 = d[d[f] != v]\n",
    "    print(d, '\\n', 'Spliter:',spliter)\n",
    "    if not dataset1.empty:\n",
    "\n",
    "      datas.append(dataset1)\n",
    "    if not dataset2.empty:\n",
    "\n",
    "      datas.append(dataset2)\n",
    "  return spliters"
   ]
  },
  {
   "cell_type": "code",
   "execution_count": 16,
   "metadata": {
    "colab": {
     "base_uri": "https://localhost:8080/",
     "height": 413
    },
    "colab_type": "code",
    "id": "XmOiv3uYPnPH",
    "outputId": "a4f08560-8e32-4e87-b481-4d8f648c513f"
   },
   "outputs": [
    {
     "name": "stdout",
     "output_type": "stream",
     "text": [
      "   bought  family_number gender income\n",
      "0       1              1      F    +10\n",
      "1       1              1      F    -10\n",
      "2       1              2      F    +10\n",
      "3       0              1      F    +10\n",
      "4       0              1      M    +10\n",
      "5       0              1      M    +10\n",
      "6       1              2      M    -10 \n",
      " Spliter: ('income', '-10')\n",
      "   bought  family_number gender income\n",
      "0       1              1      F    +10\n",
      "2       1              2      F    +10\n",
      "3       0              1      F    +10\n",
      "4       0              1      M    +10\n",
      "5       0              1      M    +10 \n",
      " Spliter: ('family_number', 1)\n",
      "   bought  family_number gender income\n",
      "0       1              1      F    +10\n",
      "3       0              1      F    +10\n",
      "4       0              1      M    +10\n",
      "5       0              1      M    +10 \n",
      " Spliter: ('gender', 'F')\n"
     ]
    }
   ],
   "source": [
    "spliters = split_all(data, 'bought')"
   ]
  },
  {
   "cell_type": "markdown",
   "metadata": {
    "colab_type": "text",
    "id": "WBxPItymjiwe"
   },
   "source": [
    "#### 4. Finish the K-Means using 2-D matplotlib (8 points)"
   ]
  },
  {
   "cell_type": "markdown",
   "metadata": {
    "colab_type": "text",
    "id": "4E10D8mXjiwi"
   },
   "source": [
    "<评阅点>\n",
    "> + 是否完成了KMeans模型，基于scikit-learning (3')\n",
    "+ 是否完成了可视化任务（5'）"
   ]
  },
  {
   "cell_type": "code",
   "execution_count": 17,
   "metadata": {
    "colab": {},
    "colab_type": "code",
    "id": "x2QiXLwha5ga"
   },
   "outputs": [],
   "source": [
    "from sklearn.cluster import KMeans"
   ]
  },
  {
   "cell_type": "code",
   "execution_count": 18,
   "metadata": {
    "colab": {
     "base_uri": "https://localhost:8080/",
     "height": 283
    },
    "colab_type": "code",
    "id": "5cA9NyS0a9et",
    "outputId": "9460f520-27a6-4e32-98ad-dbe1c224c4e1"
   },
   "outputs": [
    {
     "data": {
      "text/plain": [
       "<matplotlib.collections.PathCollection at 0x7f47958cafd0>"
      ]
     },
     "execution_count": 18,
     "metadata": {},
     "output_type": "execute_result"
    },
    {
     "data": {
      "image/png": "[encoded data removed]",
      "text/plain": [
       "<Figure size 432x288 with 1 Axes>"
      ]
     },
     "metadata": {},
     "output_type": "display_data"
    }
   ],
   "source": [
    "import random\n",
    "x1 = [random.randint(0,100) for _ in range(100)]\n",
    "x2 = [random.randint(0,100) for _ in range(100)]\n",
    "plt.scatter(x1,x2)"
   ]
  },
  {
   "cell_type": "code",
   "execution_count": 19,
   "metadata": {
    "colab": {
     "base_uri": "https://localhost:8080/",
     "height": 71
    },
    "colab_type": "code",
    "id": "UIm2mJMWbpzY",
    "outputId": "192edcc0-3de8-4fc2-d479-d18bcf4106c9"
   },
   "outputs": [
    {
     "data": {
      "text/plain": [
       "KMeans(algorithm='auto', copy_x=True, init='k-means++', max_iter=500,\n",
       "    n_clusters=5, n_init=10, n_jobs=1, precompute_distances='auto',\n",
       "    random_state=None, tol=0.0001, verbose=0)"
      ]
     },
     "execution_count": 19,
     "metadata": {},
     "output_type": "execute_result"
    }
   ],
   "source": [
    "data_train = list(zip(x1,x2))\n",
    "cluster = KMeans(n_clusters=5, max_iter=500)\n",
    "cluster.fit(data_train)"
   ]
  },
  {
   "cell_type": "code",
   "execution_count": 20,
   "metadata": {
    "colab": {
     "base_uri": "https://localhost:8080/",
     "height": 107
    },
    "colab_type": "code",
    "id": "9F8-OpFscIiT",
    "outputId": "0276ffdf-3413-45bd-eb4b-f93d041c81f2"
   },
   "outputs": [
    {
     "data": {
      "text/plain": [
       "array([[ 9.94444444, 34.83333333],\n",
       "       [83.11111111, 22.22222222],\n",
       "       [77.85714286, 78.33333333],\n",
       "       [27.65      , 83.35      ],\n",
       "       [52.26086957, 31.30434783]])"
      ]
     },
     "execution_count": 20,
     "metadata": {},
     "output_type": "execute_result"
    }
   ],
   "source": [
    "cluster.cluster_centers_"
   ]
  },
  {
   "cell_type": "code",
   "execution_count": 21,
   "metadata": {
    "colab": {
     "base_uri": "https://localhost:8080/",
     "height": 107
    },
    "colab_type": "code",
    "id": "Cgf4ONVQcN6p",
    "outputId": "c6656f3b-39b7-4b57-9323-c10bfbfa9424"
   },
   "outputs": [
    {
     "data": {
      "text/plain": [
       "array([0, 4, 4, 3, 2, 2, 2, 3, 4, 2, 2, 0, 3, 1, 4, 4, 3, 4, 3, 2, 4, 2,\n",
       "       0, 0, 1, 0, 0, 2, 1, 3, 4, 1, 1, 1, 3, 0, 2, 1, 0, 4, 3, 1, 0, 2,\n",
       "       4, 2, 3, 3, 4, 0, 0, 3, 0, 4, 0, 3, 1, 4, 4, 0, 2, 1, 3, 1, 2, 4,\n",
       "       4, 2, 2, 0, 0, 1, 1, 4, 1, 2, 2, 3, 4, 0, 1, 4, 3, 1, 1, 4, 3, 4,\n",
       "       1, 0, 2, 3, 4, 2, 2, 4, 3, 3, 3, 2], dtype=int32)"
      ]
     },
     "execution_count": 21,
     "metadata": {},
     "output_type": "execute_result"
    }
   ],
   "source": [
    "cluster.labels_"
   ]
  },
  {
   "cell_type": "code",
   "execution_count": 22,
   "metadata": {
    "colab": {
     "base_uri": "https://localhost:8080/",
     "height": 265
    },
    "colab_type": "code",
    "id": "FB91AigBcUgW",
    "outputId": "e4473665-fb3e-4b85-e7ef-ed2234709f63"
   },
   "outputs": [
    {
     "data": {
      "image/png": "[encoded data removed]",
      "text/plain": [
       "<Figure size 432x288 with 1 Axes>"
      ]
     },
     "metadata": {},
     "output_type": "display_data"
    }
   ],
   "source": [
    "colors = ['red','green','black','blue','purple']\n",
    "for i, (x, y) in enumerate(data_train):\n",
    "  plt.scatter(x, y, c=colors[cluster.labels_[i]])\n",
    "\n",
    "for (x, y) in cluster.cluster_centers_:\n",
    "  plt.scatter(x, y, s=200)"
   ]
  },
  {
   "cell_type": "markdown",
   "metadata": {
    "colab_type": "text",
    "id": "BiIrj4bHjiwj"
   },
   "source": [
    "## Part-2 Question and Answer 问答"
   ]
  },
  {
   "cell_type": "markdown",
   "metadata": {
    "colab_type": "text",
    "id": "naL-lq1qjiwl"
   },
   "source": [
    "#### 1. What's the *model*? why  all the models are wrong, but some are useful? (5 points) "
   ]
  },
  {
   "cell_type": "markdown",
   "metadata": {
    "colab_type": "text",
    "id": "PwVvHb0jjiwm"
   },
   "source": [
    "Ans:因为所有的模型都是对真实数据值的预测，无法完全反应真实世界的数据情况。但是，我们可以不断对模型进行优化，使得模型的预测不断接近真实世界的数据。在一定条件下，这些模型是有用的。"
   ]
  },
  {
   "cell_type": "markdown",
   "metadata": {
    "colab_type": "text",
    "id": "b5eQRBTqjiwn"
   },
   "source": [
    "<评阅点>\n",
    "> + 对模型的理解是否正确,对模型的抽象性是否正确(5')"
   ]
  },
  {
   "cell_type": "markdown",
   "metadata": {
    "colab_type": "text",
    "id": "e3FKCk6wjiwp"
   },
   "source": [
    "#### 2. What's the underfitting and overfitting? List the reasons that could make model overfitting or underfitting. (10 points)"
   ]
  },
  {
   "cell_type": "markdown",
   "metadata": {
    "colab_type": "text",
    "id": "Atljn1zDjiwq"
   },
   "source": [
    "Ans:欠拟合，是指模型无法准确预测训练集和测试集的数据。原因包括，训练集的数据量偏少，模型过于简单等。\n",
    "过拟合，是指模型可以准确预测训练集的数据，但无法准确预测测试集的数据。原因包括：模型过于复杂，使得模型学习了训练集的所有特征（包括异常值的特征和数据集的误差）。"
   ]
  },
  {
   "cell_type": "markdown",
   "metadata": {
    "colab_type": "text",
    "id": "XUKzDSCLjiwt"
   },
   "source": [
    "<评阅点>\n",
    "> + 对过拟合和欠拟合的理解是否正确 (3')\n",
    "+ 对欠拟合产生的原因是否理解正确(2')\n",
    "+ 对过拟合产生的原因是否理解正确(5')"
   ]
  },
  {
   "cell_type": "markdown",
   "metadata": {
    "colab_type": "text",
    "id": "jglX7zBUjiw1"
   },
   "source": [
    "#### 3. What's the precision, recall, AUC, F1, F2score. What are they mainly target on? (12')"
   ]
  },
  {
   "cell_type": "markdown",
   "metadata": {
    "colab_type": "text",
    "id": "MOACmEXkjiw3"
   },
   "source": [
    "Ans:\n",
    "\n",
    "$ precision = \\frac{TP}{TP + FP} $\n",
    "\n",
    "$ recall = \\frac{TP}{TP + FN} $\n",
    "\n",
    "$ f \\space score = (1 + \\beta ^2）*\\frac{precision * recall}{\\beta * precision + recall} $\n",
    "\n",
    "$ f1 \\space score = 2*\\frac{precision * recall}{precision + recall} $\n",
    "\n",
    "$ f2 \\space score = 5*\\frac{precision * recall}{4 * precision + recall} $\n",
    "\n",
    "AUC，即Area Under Curve，是指受试者工作曲线（ROC）下的面积。\n",
    "\n",
    "精确率和召回率都是评判模型预测不平衡数据的指标。其中，用召回率评判是需要把数据中的正样本都尽可能准确预测出来；用精确率评判是预测为正样本的数据中，实际为正样本的数目要尽可能多。\n",
    "\n",
    "F-Score同时考虑了精确率和召回率的影响。F1-Score中，精确率和召回率的影响因素一样；F2-Score中，精确率的权重更大。\n",
    "\n",
    "AUC是为了解决在分类问题中，阈值设置对预测结果的影响。"
   ]
  },
  {
   "cell_type": "markdown",
   "metadata": {
    "colab_type": "text",
    "id": "hc4sKqlsjiw5"
   },
   "source": [
    "<评阅点>\n",
    "> + 对precision, recall, AUC, F1, F2 理解是否正确(6‘)\n",
    "+ 对precision, recall, AUC, F1, F2的使用侧重点是否理解正确 (6’)"
   ]
  },
  {
   "cell_type": "markdown",
   "metadata": {
    "colab_type": "text",
    "id": "A7EkViRxjiw6"
   },
   "source": [
    "#### 4. Based on our course and yourself mind, what's the machine learning?  (8')"
   ]
  },
  {
   "cell_type": "markdown",
   "metadata": {
    "colab_type": "text",
    "id": "GAt4Sk8Mjiw-"
   },
   "source": [
    "Ans:机器学习是基于已知数据和模型，对未知的数据进行预测。其中，数据的多少、好坏直接影响了模型预测的准确度。传统的编程，是基于设置好的规则进行预测，不依赖于数据，也无法根据数据对预测结果进行修正。"
   ]
  },
  {
   "cell_type": "markdown",
   "metadata": {
    "colab_type": "text",
    "id": "VuSN6vZtjiw-"
   },
   "source": [
    "<评阅点> 开放式问题，是否能说出来机器学习这种思维方式和传统的分析式编程的区别（8'）"
   ]
  },
  {
   "cell_type": "markdown",
   "metadata": {
    "colab_type": "text",
    "id": "j39TppyZjiw-"
   },
   "source": [
    "#### 5. \"正确定义了机器学习模型的评价标准(evaluation)， 问题基本上就已经解决一半\". 这句话是否正确？你是怎么看待的？ (8‘)"
   ]
  },
  {
   "cell_type": "markdown",
   "metadata": {
    "colab_type": "text",
    "id": "7bjanPFEoYH0"
   },
   "source": [
    "Ans:这句话是正确的。因为在机器学习中，不同的任务对评价指标的要求有着很大的不同。而能否选择正确的评价指标，对问题的研究和模型的评估至关重要。例如，在不平衡数据的分类问题中中，使用准确率（accuracy）就无法正确衡量模型的好坏。此时，使用precision或者recall才能对模型进行评估。而在医学检测肿瘤的问题中，为了使得所有病人都尽可能被检测出来，对于recall的要求就很高，而不会过多关注precision。"
   ]
  },
  {
   "cell_type": "markdown",
   "metadata": {
    "colab_type": "text",
    "id": "GhqvHX21jiw-"
   },
   "source": [
    "<评阅点> 开放式问题，主要看能理解评价指标对机器学习模型的重要性."
   ]
  },
  {
   "cell_type": "markdown",
   "metadata": {
    "colab_type": "text",
    "id": "tZyoJMsFjiw-"
   },
   "source": [
    "## Part-03 Programming Practice 编程练习"
   ]
  },
  {
   "cell_type": "markdown",
   "metadata": {
    "colab_type": "text",
    "id": "qRHHWsrTjiw-"
   },
   "source": [
    "1. In our course and previous practice, we complete some importance components of Decision Tree. In this problem, you need to build a **completed** Decision Tree Model. You show finish a `predicate()` function, which accepts three parameters **<gender, income, family_number>**, and outputs the predicated 'bought': 1 or 0.  (20 points)"
   ]
  },
  {
   "cell_type": "code",
   "execution_count": 23,
   "metadata": {
    "colab": {
     "base_uri": "https://localhost:8080/",
     "height": 179
    },
    "colab_type": "code",
    "id": "JxyntGK7jiw-",
    "outputId": "4c10ba82-781f-4a60-e096-e7f66b6ac21a"
   },
   "outputs": [
    {
     "name": "stdout",
     "output_type": "stream",
     "text": [
      "[('income', '-10'), ('family_number', 1), ('gender', 'F')]\n",
      "   bought  family_number gender income\n",
      "0       1              1      F    +10\n",
      "1       1              1      F    -10\n",
      "2       1              2      F    +10\n",
      "3       0              1      F    +10\n",
      "4       0              1      M    +10\n",
      "5       0              1      M    +10\n",
      "6       1              2      M    -10\n"
     ]
    }
   ],
   "source": [
    "print(spliters)\n",
    "print(pd.DataFrame(mock_data))"
   ]
  },
  {
   "cell_type": "code",
   "execution_count": 24,
   "metadata": {
    "colab": {},
    "colab_type": "code",
    "id": "4zBv9sHHSEUK"
   },
   "outputs": [],
   "source": [
    "class DecisionTree:\n",
    "  def __init__(self, feature = None, value = None, left=None, right=None, result=None):\n",
    "    self.feature = feature\n",
    "    self.value = value\n",
    "    self.true = left\n",
    "    self.false = right\n",
    "    self.result = result"
   ]
  },
  {
   "cell_type": "code",
   "execution_count": 25,
   "metadata": {
    "colab": {},
    "colab_type": "code",
    "id": "fGWrDch_TEZU"
   },
   "outputs": [],
   "source": [
    "#build dicision tree based on optimal split\n",
    "from collections import Counter\n",
    "def build_tree(dataset,target):\n",
    "    tree = DecisionTree(value = dataset)\n",
    "    # features = set(dataset.columns.tolist()) - {target}\n",
    "    min_entropy, spliter = optimal_split(dataset, target)\n",
    "    if min_entropy <= 1e-3 or spliter is None :\n",
    "        tree.result = Counter(tree.value[target]).most_common(1)[0][0]\n",
    "        return tree\n",
    "    f, v = spliter\n",
    "    tree.feature = spliter\n",
    "    dataset1 = dataset[dataset[f] == v]\n",
    "    dataset2 = dataset[dataset[f] != v]\n",
    "    tree.true = build_tree(dataset1, target)\n",
    "    tree.false = build_tree(dataset2, target)\n",
    "    return tree\n",
    "\n",
    "#predict function based on decision tree\n",
    "def predict(x_test, tree):\n",
    "    if tree.result != None:\n",
    "        return tree.result\n",
    "    else:\n",
    "        v = x_test[tree.feature[0]]\n",
    "        branch = None\n",
    "        if tree.feature[1] == v:\n",
    "            branch = tree.true\n",
    "        else: \n",
    "            branch = tree.false\n",
    "    return predict(x_test, branch)\n"
   ]
  },
  {
   "cell_type": "code",
   "execution_count": 27,
   "metadata": {
    "colab": {
     "base_uri": "https://localhost:8080/",
     "height": 683
    },
    "colab_type": "code",
    "id": "uOCFGxo55c2t",
    "outputId": "12904738-8c61-4a9d-cb54-3c0e5fbb64cd"
   },
   "outputs": [
    {
     "name": "stdout",
     "output_type": "stream",
     "text": [
      "   bought  family_number gender income\n",
      "0       1              1      F    +10\n",
      "1       1              1      F    -10\n",
      "2       1              2      F    +10\n",
      "3       0              1      F    +10\n",
      "4       0              1      M    +10\n",
      "5       0              1      M    +10\n",
      "6       1              2      M    -10 \n",
      " ('income', '-10') None\n",
      "   bought  family_number gender income\n",
      "1       1              1      F    -10\n",
      "6       1              2      M    -10 \n",
      " None 1\n",
      "   bought  family_number gender income\n",
      "0       1              1      F    +10\n",
      "2       1              2      F    +10\n",
      "3       0              1      F    +10\n",
      "4       0              1      M    +10\n",
      "5       0              1      M    +10 \n",
      " ('family_number', 1) None\n",
      "   bought  family_number gender income\n",
      "0       1              1      F    +10\n",
      "3       0              1      F    +10\n",
      "4       0              1      M    +10\n",
      "5       0              1      M    +10 \n",
      " ('gender', 'F') None\n",
      "   bought  family_number gender income\n",
      "2       1              2      F    +10 \n",
      " None 1\n",
      "   bought  family_number gender income\n",
      "0       1              1      F    +10\n",
      "3       0              1      F    +10 \n",
      " None 0\n",
      "   bought  family_number gender income\n",
      "4       0              1      M    +10\n",
      "5       0              1      M    +10 \n",
      " None 0\n"
     ]
    }
   ],
   "source": [
    "#print training dacision tree\n",
    "dataset = pd.DataFrame(mock_data)\n",
    "tree = build_tree(dataset,'bought')\n",
    "stack = [tree]\n",
    "while stack:\n",
    "  t = stack.pop(0)\n",
    "  print(t.value, '\\n', t.feature, t.result)\n",
    "  if t.true:\n",
    "    stack.append(t.true)\n",
    "  if t.false:\n",
    "    stack.append(t.false)"
   ]
  },
  {
   "cell_type": "code",
   "execution_count": 28,
   "metadata": {
    "colab": {
     "base_uri": "https://localhost:8080/",
     "height": 161
    },
    "colab_type": "code",
    "id": "qi7L72WnpH51",
    "outputId": "475b6519-b756-4075-cf5d-fc7a790b7f55"
   },
   "outputs": [
    {
     "name": "stdout",
     "output_type": "stream",
     "text": [
      "Predict training data:\n",
      "Gender:F, income:+10, family number:1, bought:1, bought_predict:0\n",
      "Gender:F, income:-10, family number:1, bought:1, bought_predict:1\n",
      "Gender:F, income:+10, family number:2, bought:1, bought_predict:1\n",
      "Gender:F, income:+10, family number:1, bought:0, bought_predict:0\n",
      "Gender:M, income:+10, family number:1, bought:0, bought_predict:0\n",
      "Gender:M, income:+10, family number:1, bought:0, bought_predict:0\n",
      "Gender:M, income:-10, family number:2, bought:1, bought_predict:1\n"
     ]
    }
   ],
   "source": [
    "import random\n",
    "dataset = pd.DataFrame(mock_data)\n",
    "tree = build_tree(dataset,'bought')\n",
    "\n",
    "print(\"Predict training data:\")\n",
    "for i in range(len(dataset)):\n",
    "  data = dataset.iloc[i,:]\n",
    "  test_data = {'gender':data.gender, 'income':data.income, 'family_number':data.family_number}\n",
    "  pred = predict(test_data,tree)\n",
    "  print(\"Gender:{}, income:{}, family number:{}, bought:{}, bought_predict:{}\".format(data.gender, data.income, data.family_number, data.bought, pred))\n",
    "\n"
   ]
  },
  {
   "cell_type": "code",
   "execution_count": 29,
   "metadata": {
    "colab": {
     "base_uri": "https://localhost:8080/",
     "height": 215
    },
    "colab_type": "code",
    "id": "Ro0oBMT4ebQT",
    "outputId": "6589be10-9ce5-4d96-867e-d7c354b5f09d"
   },
   "outputs": [
    {
     "name": "stdout",
     "output_type": "stream",
     "text": [
      "Predict testing data:\n",
      "Gender:F, income:-10, family number:2, bought_predict:1\n",
      "Gender:F, income:+10, family number:2, bought_predict:1\n",
      "Gender:M, income:-10, family number:2, bought_predict:1\n",
      "Gender:F, income:-10, family number:2, bought_predict:1\n",
      "Gender:M, income:-10, family number:1, bought_predict:1\n",
      "Gender:F, income:+10, family number:1, bought_predict:0\n",
      "Gender:M, income:+10, family number:2, bought_predict:1\n",
      "Gender:F, income:+10, family number:1, bought_predict:0\n",
      "Gender:M, income:-10, family number:1, bought_predict:1\n",
      "Gender:F, income:-10, family number:2, bought_predict:1\n"
     ]
    }
   ],
   "source": [
    "print(\"Predict testing data:\")\n",
    "for i in range(10):\n",
    "  gender = random.choice(['M','F'])\n",
    "  income = random.choice(['+10','-10'])\n",
    "  family_number = random.choice((1,2))\n",
    "  test_data = {'gender':gender, 'income':income, 'family_number':family_number}\n",
    "  pred = predict(test_data,tree)\n",
    "  print(\"Gender:{}, income:{}, family number:{}, bought_predict:{}\".format(gender, income, family_number, pred))"
   ]
  },
  {
   "cell_type": "markdown",
   "metadata": {
    "colab_type": "text",
    "id": "aj7Vgas2jiw-"
   },
   "source": [
    "<评阅点>\n",
    "> + 是否将之前的决策树模型的部分进行合并组装， predicate函数能够顺利运行(8')\n",
    "+ 是够能够输入未曾见过的X变量，例如gender, income, family_number 分别是： <M, -10, 1>, 模型能够预测出结果 (12')"
   ]
  },
  {
   "cell_type": "markdown",
   "metadata": {
    "colab_type": "text",
    "id": "9yuaPwX5jixN"
   },
   "source": [
    "2. 将上一节课(第二节课)的线性回归问题中的Loss函数改成\"绝对值\"，并且改变其偏导的求值方式，观察其结果的变化。(19 point)"
   ]
  },
  {
   "cell_type": "code",
   "execution_count": 30,
   "metadata": {
    "colab": {},
    "colab_type": "code",
    "id": "VgEkhCcKjixN"
   },
   "outputs": [],
   "source": [
    "def loss(y,y_hat):\n",
    "  l = 0\n",
    "  for y_i, y_hat_i in zip(list(y),list(y_hat)):\n",
    "    l += abs(y_i - y_hat_i)\n",
    "  return l / len(list(y))\n",
    "\n",
    "def price(rm, k, b):\n",
    "  return k * rm + b\n",
    "\n",
    "def derivative_k(x, y, y_hat):\n",
    "  grad = 0\n",
    "  for x_i, y_i, y_hat_i in zip(list(x),list(y),list(y_hat)):\n",
    "    if y_i > y_hat_i:\n",
    "      grad += -x_i\n",
    "    else:\n",
    "      grad += x_i\n",
    "  return grad / len(list(y))\n",
    "\n",
    "def derivative_b(x, y, y_hat):\n",
    "  grad = 0\n",
    "  for x_i, y_i, y_hat_i in zip(list(x),list(y),list(y_hat)):\n",
    "    if y_i > y_hat_i:\n",
    "      grad += -1\n",
    "    else:\n",
    "      grad += 1\n",
    "    return grad / len(list(y))"
   ]
  },
  {
   "cell_type": "code",
   "execution_count": 31,
   "metadata": {
    "colab": {},
    "colab_type": "code",
    "id": "zY64dlpLmTkK"
   },
   "outputs": [],
   "source": [
    "from sklearn.datasets import load_boston\n",
    "dataset = load_boston()\n",
    "x, y = dataset['data'], dataset['target']\n",
    "x_rm = x[:,5]"
   ]
  },
  {
   "cell_type": "code",
   "execution_count": 53,
   "metadata": {
    "colab": {
     "base_uri": "https://localhost:8080/",
     "height": 1000
    },
    "colab_type": "code",
    "id": "ZhYEta6Gmp9b",
    "outputId": "818da74a-be22-41bf-e7d6-244037ea4585"
   },
   "outputs": [
    {
     "name": "stdout",
     "output_type": "stream",
     "text": [
      "Iteration 0, the loss is 574.6377207545195, parameters k is -79.40162622438362 and b is -53.094723848994676\n",
      "Iteration 100, the loss is 535.1391150872506, parameters k is -73.11699183703195 and b is -53.09274756440945\n",
      "Iteration 200, the loss is 495.64050941998187, parameters k is -66.83235744968027 and b is -53.090771279824224\n",
      "Iteration 300, the loss is 456.14190375271204, parameters k is -60.5477230623286 and b is -53.088794995239\n",
      "Iteration 400, the loss is 416.6432980854438, parameters k is -54.26308867497693 and b is -53.08681871065377\n",
      "Iteration 500, the loss is 377.1446924181742, parameters k is -47.978454287625254 and b is -53.08484242606855\n",
      "Iteration 600, the loss is 337.64608675090534, parameters k is -41.69381990027358 and b is -53.08286614148332\n",
      "Iteration 700, the loss is 298.1474810836362, parameters k is -35.40918551292191 and b is -53.0808898568981\n",
      "Iteration 800, the loss is 258.6488754163671, parameters k is -29.124551125570235 and b is -53.07891357231287\n",
      "Iteration 900, the loss is 219.15026974909807, parameters k is -22.839916738218562 and b is -53.076937287727645\n",
      "Iteration 1000, the loss is 179.65166408182907, parameters k is -16.55528235086689 and b is -53.07496100314242\n",
      "Iteration 1100, the loss is 140.15305841455913, parameters k is -10.270647963515053 and b is -53.072984718557194\n",
      "Iteration 1200, the loss is 100.65445274728933, parameters k is -3.9860135761632587 and b is -53.07100843397197\n",
      "Iteration 1300, the loss is 61.15584708001955, parameters k is 2.2986208111885333 and b is -53.06903214938674\n",
      "Iteration 1400, the loss is 21.65879842768413, parameters k is 8.583255198540316 and b is -53.06705586480152\n",
      "Iteration 1500, the loss is 4.589714297941773, parameters k is 12.037652352690506 and b is -53.06658155650106\n",
      "Iteration 1600, the loss is 4.589589801386874, parameters k is 12.041367728184582 and b is -53.06855784108629\n",
      "Iteration 1700, the loss is 4.589628555230481, parameters k is 12.041667925813046 and b is -53.070534125671514\n",
      "Iteration 1800, the loss is 4.589667309074086, parameters k is 12.04196812344151 and b is -53.07251041025674\n",
      "Iteration 1900, the loss is 4.589705824018869, parameters k is 12.042504882334796 and b is -53.074486694841966\n"
     ]
    }
   ],
   "source": [
    "import random\n",
    "k = random.random() * 200 - 100\n",
    "b = random.random() * 200 - 100\n",
    "num_iter = 2000\n",
    "losses = []\n",
    "lr = 0.01\n",
    "min_loss = float('inf')\n",
    "\n",
    "for i in range(num_iter):\n",
    "  current_price = [price(rm, k, b) for rm in x_rm]\n",
    "  current_loss = loss(y, current_price)\n",
    "  losses.append(current_loss)\n",
    "  if i % 100 == 0:\n",
    "    print(\"Iteration {}, the loss is {}, parameters k is {} and b is {}\".format(i,current_loss,k,b))\n",
    "  k = k - lr * derivative_k(x_rm, y, current_price)\n",
    "  b = b - lr * derivative_b(x_rm, y, current_price)\n",
    "best_k = k\n",
    "best_b = b\n"
   ]
  },
  {
   "cell_type": "code",
   "execution_count": 54,
   "metadata": {
    "colab": {
     "base_uri": "https://localhost:8080/",
     "height": 283
    },
    "colab_type": "code",
    "id": "05eE0HgEpaWY",
    "outputId": "2e7bf76a-beda-4234-c3dd-e8c95c09070a"
   },
   "outputs": [
    {
     "data": {
      "text/plain": [
       "[<matplotlib.lines.Line2D at 0x7f4795836470>]"
      ]
     },
     "execution_count": 54,
     "metadata": {},
     "output_type": "execute_result"
    },
    {
     "data": {
      "image/png": "[encoded data removed]",
      "text/plain": [
       "<Figure size 432x288 with 1 Axes>"
      ]
     },
     "metadata": {},
     "output_type": "display_data"
    }
   ],
   "source": [
    "import matplotlib.pyplot as plt\n",
    "%matplotlib inline\n",
    "\n",
    "plt.plot(list(range(len(losses))),losses)"
   ]
  },
  {
   "cell_type": "code",
   "execution_count": 55,
   "metadata": {
    "colab": {
     "base_uri": "https://localhost:8080/",
     "height": 283
    },
    "colab_type": "code",
    "id": "T04gCyL6q-AB",
    "outputId": "d129e36f-e069-4559-e1c3-60ae005e44f2"
   },
   "outputs": [
    {
     "data": {
      "text/plain": [
       "[<matplotlib.lines.Line2D at 0x7f479584c9e8>]"
      ]
     },
     "execution_count": 55,
     "metadata": {},
     "output_type": "execute_result"
    },
    {
     "data": {
      "image/png": "[encoded data removed]",
      "text/plain": [
       "<Figure size 432x288 with 1 Axes>"
      ]
     },
     "metadata": {},
     "output_type": "display_data"
    }
   ],
   "source": [
    "plt.scatter(x_rm,y)\n",
    "plt.plot(x_rm, best_k * x_rm + best_b, color = 'red')"
   ]
  },
  {
   "cell_type": "markdown",
   "metadata": {
    "colab_type": "text",
    "id": "p89RdxCdjixN"
   },
   "source": [
    "<评阅点>\n",
    "+ 是否将Loss改成了“绝对值”(3')\n",
    "+ 是否完成了偏导的重新定义(5')\n",
    "+ 新的模型Loss是否能够收敛 (11’)"
   ]
  },
  {
   "cell_type": "markdown",
   "metadata": {
    "colab_type": "text",
    "id": "dnVlOBANjixN"
   },
   "source": []
  }
 ],
 "metadata": {
  "colab": {
   "collapsed_sections": [],
   "name": "Assignment-03(1).ipynb",
   "provenance": []
  },
  "kernelspec": {
   "display_name": "Python 3",
   "language": "python",
   "name": "python3"
  },
  "language_info": {
   "codemirror_mode": {
    "name": "ipython",
    "version": 3
   },
   "file_extension": ".py",
   "mimetype": "text/x-python",
   "name": "python",
   "nbconvert_exporter": "python",
   "pygments_lexer": "ipython3",
   "version": "3.5.2"
  }
 },
 "nbformat": 4,
 "nbformat_minor": 1
}
