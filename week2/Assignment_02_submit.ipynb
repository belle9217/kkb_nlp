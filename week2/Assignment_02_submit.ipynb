{
 "cells": [
  {
   "cell_type": "markdown",
   "metadata": {},
   "source": [
    "# Assignment 2\n"
   ]
  },
  {
   "cell_type": "markdown",
   "metadata": {},
   "source": [
    "#### 1. 复习上课内容以及复现课程代码"
   ]
  },
  {
   "cell_type": "markdown",
   "metadata": {},
   "source": [
    "在本部分，你需要在复习上课内容和课程代码后，复现课程代码。 "
   ]
  },
  {
   "cell_type": "code",
   "execution_count": 1,
   "metadata": {},
   "outputs": [],
   "source": [
    "coordination_source = \"\"\"\n",
    "{name:'兰州', geoCoord:[103.73, 36.03]},\n",
    "{name:'嘉峪关', geoCoord:[98.17, 39.47]},\n",
    "{name:'西宁', geoCoord:[101.74, 36.56]},\n",
    "{name:'成都', geoCoord:[104.06, 30.67]},\n",
    "{name:'石家庄', geoCoord:[114.48, 38.03]},\n",
    "{name:'拉萨', geoCoord:[102.73, 25.04]},\n",
    "{name:'贵阳', geoCoord:[106.71, 26.57]},\n",
    "{name:'武汉', geoCoord:[114.31, 30.52]},\n",
    "{name:'郑州', geoCoord:[113.65, 34.76]},\n",
    "{name:'济南', geoCoord:[117, 36.65]},\n",
    "{name:'南京', geoCoord:[118.78, 32.04]},\n",
    "{name:'合肥', geoCoord:[117.27, 31.86]},\n",
    "{name:'杭州', geoCoord:[120.19, 30.26]},\n",
    "{name:'南昌', geoCoord:[115.89, 28.68]},\n",
    "{name:'福州', geoCoord:[119.3, 26.08]},\n",
    "{name:'广州', geoCoord:[113.23, 23.16]},\n",
    "{name:'长沙', geoCoord:[113, 28.21]},\n",
    "//{name:'海口', geoCoord:[110.35, 20.02]},\n",
    "{name:'沈阳', geoCoord:[123.38, 41.8]},\n",
    "{name:'长春', geoCoord:[125.35, 43.88]},\n",
    "{name:'哈尔滨', geoCoord:[126.63, 45.75]},\n",
    "{name:'太原', geoCoord:[112.53, 37.87]},\n",
    "{name:'西安', geoCoord:[108.95, 34.27]},\n",
    "//{name:'台湾', geoCoord:[121.30, 25.03]},\n",
    "{name:'北京', geoCoord:[116.46, 39.92]},\n",
    "{name:'上海', geoCoord:[121.48, 31.22]},\n",
    "{name:'重庆', geoCoord:[106.54, 29.59]},\n",
    "{name:'天津', geoCoord:[117.2, 39.13]},\n",
    "{name:'呼和浩特', geoCoord:[111.65, 40.82]},\n",
    "{name:'南宁', geoCoord:[108.33, 22.84]},\n",
    "//{name:'西藏', geoCoord:[91.11, 29.97]},\n",
    "{name:'银川', geoCoord:[106.27, 38.47]},\n",
    "{name:'乌鲁木齐', geoCoord:[87.68, 43.77]},\n",
    "{name:'香港', geoCoord:[114.17, 22.28]},\n",
    "{name:'澳门', geoCoord:[113.54, 22.19]}\n",
    "\"\"\""
   ]
  },
  {
   "cell_type": "code",
   "execution_count": 2,
   "metadata": {},
   "outputs": [],
   "source": [
    "import re\n",
    "\n",
    "def get_city_info(coordination_source):\n",
    "    city_location = {}\n",
    "    for line in coordination_source.split('\\n'):\n",
    "        if line.startswith('//'):\n",
    "            continue\n",
    "        if line.strip() == '':\n",
    "            continue\n",
    "        city = re.findall(\"name:'(\\w+)'\",line)[0]\n",
    "        x_y = re.findall(\"Coord:\\[(\\d+.\\d+),\\s(\\d+\\.\\d+)\", line)[0]\n",
    "        x_y = tuple(map(float,x_y))\n",
    "        city_location[city] = x_y\n",
    "    return city_location"
   ]
  },
  {
   "cell_type": "code",
   "execution_count": 3,
   "metadata": {},
   "outputs": [],
   "source": [
    "city_info = get_city_info(coordination_source)"
   ]
  },
  {
   "cell_type": "code",
   "execution_count": 4,
   "metadata": {},
   "outputs": [
    {
     "data": {
      "text/plain": [
       "{'上海': (121.48, 31.22),\n",
       " '乌鲁木齐': (87.68, 43.77),\n",
       " '兰州': (103.73, 36.03),\n",
       " '北京': (116.46, 39.92),\n",
       " '南京': (118.78, 32.04),\n",
       " '南宁': (108.33, 22.84),\n",
       " '南昌': (115.89, 28.68),\n",
       " '合肥': (117.27, 31.86),\n",
       " '呼和浩特': (111.65, 40.82),\n",
       " '哈尔滨': (126.63, 45.75),\n",
       " '嘉峪关': (98.17, 39.47),\n",
       " '天津': (117.2, 39.13),\n",
       " '太原': (112.53, 37.87),\n",
       " '广州': (113.23, 23.16),\n",
       " '成都': (104.06, 30.67),\n",
       " '拉萨': (102.73, 25.04),\n",
       " '杭州': (120.19, 30.26),\n",
       " '武汉': (114.31, 30.52),\n",
       " '沈阳': (123.38, 41.8),\n",
       " '济南': (117.0, 36.65),\n",
       " '澳门': (113.54, 22.19),\n",
       " '石家庄': (114.48, 38.03),\n",
       " '福州': (119.3, 26.08),\n",
       " '西宁': (101.74, 36.56),\n",
       " '西安': (108.95, 34.27),\n",
       " '贵阳': (106.71, 26.57),\n",
       " '郑州': (113.65, 34.76),\n",
       " '重庆': (106.54, 29.59),\n",
       " '银川': (106.27, 38.47),\n",
       " '长春': (125.35, 43.88),\n",
       " '长沙': (113.0, 28.21),\n",
       " '香港': (114.17, 22.28)}"
      ]
     },
     "execution_count": 4,
     "metadata": {},
     "output_type": "execute_result"
    }
   ],
   "source": [
    "city_info"
   ]
  },
  {
   "cell_type": "code",
   "execution_count": 5,
   "metadata": {},
   "outputs": [],
   "source": [
    "def get_city_distance(city1, city2):\n",
    "\n",
    "    return geo_distance(city_info[city1],city_info[city2])"
   ]
  },
  {
   "cell_type": "code",
   "execution_count": 6,
   "metadata": {},
   "outputs": [],
   "source": [
    "import math\n",
    "def geo_distance(origin, destination):\n",
    "    lat1, lon1 = origin\n",
    "    lat2, lon2 = destination\n",
    "    radius = 6371  # km\n",
    "\n",
    "    dlat = math.radians(lat2 - lat1)\n",
    "    dlon = math.radians(lon2 - lon1)\n",
    "    a = (math.sin(dlat / 2) * math.sin(dlat / 2) +\n",
    "         math.cos(math.radians(lat1)) * math.cos(math.radians(lat2)) *\n",
    "         math.sin(dlon / 2) * math.sin(dlon / 2))\n",
    "    c = 2 * math.atan2(math.sqrt(a), math.sqrt(1 - a))\n",
    "    d = radius * c\n",
    "\n",
    "    return d"
   ]
  },
  {
   "cell_type": "code",
   "execution_count": 7,
   "metadata": {},
   "outputs": [
    {
     "data": {
      "text/plain": [
       "153.5185697155768"
      ]
     },
     "execution_count": 7,
     "metadata": {},
     "output_type": "execute_result"
    }
   ],
   "source": [
    "get_city_distance('上海','杭州')"
   ]
  },
  {
   "cell_type": "code",
   "execution_count": 8,
   "metadata": {},
   "outputs": [],
   "source": [
    "threshold = 700\n",
    "from collections import defaultdict\n",
    "def build_connection(city_info):\n",
    "    city_conn = defaultdict(list)\n",
    "    cities = list(city_info.keys())\n",
    "    for c1 in cities:\n",
    "        for c2 in cities:\n",
    "            if c1 == c2:\n",
    "                continue\n",
    "            if get_city_distance(c1, c2) < threshold:\n",
    "                city_conn[c1].append(c2)\n",
    "    return city_conn"
   ]
  },
  {
   "cell_type": "code",
   "execution_count": 9,
   "metadata": {},
   "outputs": [],
   "source": [
    "cities_connection = build_connection(city_info)"
   ]
  },
  {
   "cell_type": "code",
   "execution_count": 10,
   "metadata": {},
   "outputs": [],
   "source": [
    "import networkx as nx\n",
    "import matplotlib.pyplot as plt\n",
    "cities_conn_graph = nx.Graph(cities_connection)\n",
    "nx.draw(cities_conn_graph, with_labels=True, node_size=10)"
   ]
  },
  {
   "cell_type": "code",
   "execution_count": 11,
   "metadata": {},
   "outputs": [],
   "source": [
    "def bfs(graph, start, destination):\n",
    "    paths = [[start]]\n",
    "    visited = set()\n",
    "    \n",
    "    while paths:\n",
    "        path = paths.pop(0)\n",
    "        next = path[-1]\n",
    "        \n",
    "        if next in visited:\n",
    "            continue\n",
    "        cities = graph[next]\n",
    "        \n",
    "        for city in cities:\n",
    "            if city in path:\n",
    "                continue\n",
    "                \n",
    "            new_path = path + [city]\n",
    "            paths.append(new_path)\n",
    "            \n",
    "            if city == destination:\n",
    "                return new_path\n",
    "        visited.add(next)\n",
    "         "
   ]
  },
  {
   "cell_type": "code",
   "execution_count": 12,
   "metadata": {},
   "outputs": [
    {
     "data": {
      "text/plain": [
       "['北京', '南昌', '香港']"
      ]
     },
     "execution_count": 12,
     "metadata": {},
     "output_type": "execute_result"
    }
   ],
   "source": [
    "bfs(cities_connection, '北京', '香港')"
   ]
  },
  {
   "cell_type": "code",
   "execution_count": 13,
   "metadata": {},
   "outputs": [],
   "source": [
    "from sklearn.datasets import load_boston"
   ]
  },
  {
   "cell_type": "code",
   "execution_count": 14,
   "metadata": {},
   "outputs": [],
   "source": [
    "data = load_boston()"
   ]
  },
  {
   "cell_type": "code",
   "execution_count": 15,
   "metadata": {},
   "outputs": [],
   "source": [
    "x, y = data['data'], data['target']"
   ]
  },
  {
   "cell_type": "code",
   "execution_count": 16,
   "metadata": {},
   "outputs": [
    {
     "data": {
      "text/plain": [
       "((506, 13), (506,))"
      ]
     },
     "execution_count": 16,
     "metadata": {},
     "output_type": "execute_result"
    }
   ],
   "source": [
    "x.shape, y.shape"
   ]
  },
  {
   "cell_type": "code",
   "execution_count": 17,
   "metadata": {},
   "outputs": [
    {
     "data": {
      "text/plain": [
       "array(['CRIM', 'ZN', 'INDUS', 'CHAS', 'NOX', 'RM', 'AGE', 'DIS', 'RAD',\n",
       "       'TAX', 'PTRATIO', 'B', 'LSTAT'], dtype='<U7')"
      ]
     },
     "execution_count": 17,
     "metadata": {},
     "output_type": "execute_result"
    }
   ],
   "source": [
    "data.feature_names"
   ]
  },
  {
   "cell_type": "code",
   "execution_count": 18,
   "metadata": {},
   "outputs": [],
   "source": [
    "x_rm = x[:,5]"
   ]
  },
  {
   "cell_type": "code",
   "execution_count": 19,
   "metadata": {},
   "outputs": [],
   "source": [
    "def price(rm, k, b):\n",
    "    return k * rm + b "
   ]
  },
  {
   "cell_type": "code",
   "execution_count": 20,
   "metadata": {},
   "outputs": [],
   "source": [
    "def loss(y, y_hat):\n",
    "    return sum((y_i - y_hat_i)**2 for y_i, y_hat_i in zip(y, y_hat)) / len(y) "
   ]
  },
  {
   "cell_type": "code",
   "execution_count": 21,
   "metadata": {},
   "outputs": [],
   "source": [
    "def derivative_k(x, y, y_hat):\n",
    "    n = len(y)\n",
    "    gradient = 0\n",
    "    for x_i, y_i, y_hat_i in zip(x, y, y_hat):\n",
    "        gradient += (y_i - y_hat_i) * x_i\n",
    "    return -2/n * gradient\n",
    "\n",
    "def derivative_b(y, y_hat):\n",
    "    n = len(y)\n",
    "    gradient = 0\n",
    "    for y_i, y_hat_i in zip(y, y_hat):\n",
    "        gradient += (y_i - y_hat_i)\n",
    "    return -2/n *gradient"
   ]
  },
  {
   "cell_type": "code",
   "execution_count": 22,
   "metadata": {},
   "outputs": [
    {
     "name": "stdout",
     "output_type": "stream",
     "text": [
      "Iter 0, loss=503.92, k=0.23, b=0.59\n",
      "Iter 100, loss=59.29, k=3.49, b=1.01\n",
      "Iter 200, loss=59.21, k=3.51, b=0.92\n",
      "Iter 300, loss=59.14, k=3.52, b=0.84\n",
      "Iter 400, loss=59.06, k=3.53, b=0.75\n",
      "Iter 500, loss=58.99, k=3.55, b=0.67\n",
      "Iter 600, loss=58.91, k=3.56, b=0.58\n",
      "Iter 700, loss=58.84, k=3.57, b=0.50\n",
      "Iter 800, loss=58.77, k=3.59, b=0.42\n",
      "Iter 900, loss=58.69, k=3.60, b=0.33\n"
     ]
    }
   ],
   "source": [
    "import random\n",
    "k = random.random()\n",
    "b = random.random()\n",
    "\n",
    "lr = 1e-3\n",
    "iter_num = 1000\n",
    "losses = []\n",
    "\n",
    "for i in range(iter_num):\n",
    "    prices = [price(rm, k, b) for rm in x_rm]\n",
    "    current_loss = loss(y, prices)\n",
    "    losses.append(current_loss)\n",
    "    if i % 100 == 0:\n",
    "        print(\"Iter {}, loss={:.2f}, k={:.2f}, b={:.2f}\".format(i, current_loss, k, b))\n",
    "    \n",
    "    k_grad = derivative_k(x_rm, y, prices)\n",
    "    b_grad = derivative_b(y, prices)\n",
    "    \n",
    "    k -= lr * k_grad\n",
    "    b -= lr * b_grad\n",
    "best_k = k\n",
    "best_b = b"
   ]
  },
  {
   "cell_type": "code",
   "execution_count": 23,
   "metadata": {},
   "outputs": [
    {
     "data": {
      "text/plain": [
       "[<matplotlib.lines.Line2D at 0x7f53e8747278>]"
      ]
     },
     "execution_count": 23,
     "metadata": {},
     "output_type": "execute_result"
    },
    {
     "data": {
      "image/png": "[encoded data removed]",
      "text/plain": [
       "<Figure size 432x288 with 1 Axes>"
      ]
     },
     "metadata": {},
     "output_type": "display_data"
    }
   ],
   "source": [
    "import matplotlib.pyplot as plt\n",
    "%matplotlib inline\n",
    "plt.plot(losses)"
   ]
  },
  {
   "cell_type": "code",
   "execution_count": null,
   "metadata": {},
   "outputs": [],
   "source": []
  },
  {
   "cell_type": "markdown",
   "metadata": {},
   "source": [
    "#### 2. 回答以下理论题目"
   ]
  },
  {
   "cell_type": "markdown",
   "metadata": {},
   "source": [
    "###       < 评阅点 >： 答案是否正确完整"
   ]
  },
  {
   "cell_type": "markdown",
   "metadata": {},
   "source": [
    "###### 2.1 What conditions are required to make the BFS return the optimal solution ?"
   ]
  },
  {
   "cell_type": "markdown",
   "metadata": {},
   "source": [
    "1. 任意两个节点之间的距离为正\n",
    "2. 每次迭代对搜索历史列表进行排序"
   ]
  },
  {
   "cell_type": "markdown",
   "metadata": {},
   "source": [
    "##### 2.2 Is there a way to make DFS find the optimal solution ? (You may need to read some material about iterative DFS)"
   ]
  },
  {
   "cell_type": "markdown",
   "metadata": {},
   "source": [
    "DFS不能保证可以找到最优解，但Iterative DFS可以。Iterative DFS每次搜索时，会按照DFS的方式对小于指定深度的节点进行遍历，从而保证搜索到的Destination是最优解。"
   ]
  },
  {
   "cell_type": "markdown",
   "metadata": {},
   "source": [
    "##### 2.3 In what conditions BFS is a better choice than DFS and vice versa ?"
   ]
  },
  {
   "cell_type": "markdown",
   "metadata": {},
   "source": [
    "需要保证找到最优解时，使用BFS；对空间复杂度有要求时，使用DFS。"
   ]
  },
  {
   "cell_type": "markdown",
   "metadata": {},
   "source": [
    "##### 2.4 When can we use machine learning ?"
   ]
  },
  {
   "cell_type": "markdown",
   "metadata": {},
   "source": [
    "需要通过从数据中，学习并不断改进一个模型，对未知数据进行预测时，可以使用机器学习。机器学习可以解决回归和分类任务。"
   ]
  },
  {
   "cell_type": "markdown",
   "metadata": {},
   "source": [
    "##### 2.5 What is the gradient of a function ?"
   ]
  },
  {
   "cell_type": "markdown",
   "metadata": {},
   "source": [
    "函数在一个点的梯度是指函数在该店增大速度最快的方向。"
   ]
  },
  {
   "cell_type": "markdown",
   "metadata": {},
   "source": [
    "##### 2.6 How can we find the maximum value of a function using the information of gradient ?"
   ]
  },
  {
   "cell_type": "markdown",
   "metadata": {},
   "source": [
    "通过梯度提升的方法。从一个点出发，不断迭代往梯度增加的方向进行搜索。利用梯度只能找出函数的局部最大值。"
   ]
  },
  {
   "cell_type": "markdown",
   "metadata": {},
   "source": [
    "#### 3. 实践部分  寻找地铁路线"
   ]
  },
  {
   "cell_type": "markdown",
   "metadata": {},
   "source": [
    "### < 评阅点 >  1: 爬虫爬取数据是否完整;  2:搜索算法是否正确"
   ]
  },
  {
   "cell_type": "markdown",
   "metadata": {},
   "source": [
    "In this part, although we recommend you to use Beijing subway, you still can use the subway map of any cities that you are interested in. "
   ]
  },
  {
   "cell_type": "markdown",
   "metadata": {},
   "source": [
    "![title](img/ditu.png)"
   ]
  },
  {
   "cell_type": "markdown",
   "metadata": {},
   "source": [
    "Please using the search policy to implement an agent. This agent receives two input, one is @param start station and the other is @param destination. Your agent should give the optimal route based on Beijing Subway system."
   ]
  },
  {
   "cell_type": "markdown",
   "metadata": {},
   "source": [
    "Deadline: 2019-October-27"
   ]
  },
  {
   "cell_type": "markdown",
   "metadata": {},
   "source": [
    "#### Procedures"
   ]
  },
  {
   "cell_type": "markdown",
   "metadata": {},
   "source": [
    "#### 1. Get data from web.  "
   ]
  },
  {
   "cell_type": "markdown",
   "metadata": {},
   "source": [
    "Some tips: "
   ]
  },
  {
   "cell_type": "markdown",
   "metadata": {},
   "source": [
    "a. You might need this package: requests[https://2.python-requests.org/en/master/] to get webpages"
   ]
  },
  {
   "cell_type": "markdown",
   "metadata": {},
   "source": [
    "b.You might need to use Regular Expression and Beautiful Soap package to parse the webpages"
   ]
  },
  {
   "cell_type": "markdown",
   "metadata": {},
   "source": [
    "##### 2. Preprocessing data"
   ]
  },
  {
   "cell_type": "markdown",
   "metadata": {},
   "source": [
    "Some tips:"
   ]
  },
  {
   "cell_type": "markdown",
   "metadata": {},
   "source": [
    "a. Find a suitable way to save the data you get from the web. (Note: The way you use to save the data should be able to be used to create the graph that your agent is going to explore)"
   ]
  },
  {
   "cell_type": "markdown",
   "metadata": {},
   "source": [
    "#### 3. Build the search agent"
   ]
  },
  {
   "cell_type": "markdown",
   "metadata": {},
   "source": [
    "Build the search agent based ont he graph you built."
   ]
  },
  {
   "cell_type": "markdown",
   "metadata": {},
   "source": [
    "for example, if you use Beijing subway graoh, and you run:"
   ]
  },
  {
   "cell_type": "markdown",
   "metadata": {},
   "source": [
    "\\>>> search(\"奥体中心“，”天安门“）"
   ]
  },
  {
   "cell_type": "markdown",
   "metadata": {},
   "source": [
    "You should get the result as follows: 奥体中心 -> A ->B ->C ... -> 天安门"
   ]
  },
  {
   "cell_type": "markdown",
   "metadata": {},
   "source": [
    "### (Optional) Improve your agent to make it able to find a path based on different strategies"
   ]
  },
  {
   "cell_type": "markdown",
   "metadata": {},
   "source": [
    "###  <评阅点> : 是否正确得到不同目标下的路径。"
   ]
  },
  {
   "cell_type": "markdown",
   "metadata": {},
   "source": [
    "Some ideas you might want to try:"
   ]
  },
  {
   "cell_type": "markdown",
   "metadata": {},
   "source": [
    "a. Find the shortest path between two stations."
   ]
  },
  {
   "cell_type": "markdown",
   "metadata": {},
   "source": [
    "b. Find the path that requires minimum transfers between two stations."
   ]
  },
  {
   "cell_type": "markdown",
   "metadata": {},
   "source": [
    "c. Combine the previous two ideas, find a more suitable path."
   ]
  },
  {
   "cell_type": "markdown",
   "metadata": {},
   "source": [
    "Compare your results with results obtained by using some apps such as Baidu map, A map, Google map or Apple map. If there is difference, try to explanate it."
   ]
  },
  {
   "cell_type": "markdown",
   "metadata": {},
   "source": [
    "## Congratulations ! You have finished the assignment of week 2."
   ]
  },
  {
   "cell_type": "markdown",
   "metadata": {},
   "source": [
    "![title](img/agent.png)"
   ]
  },
  {
   "cell_type": "markdown",
   "metadata": {},
   "source": [
    "### If you have any suggestions regarding the teaching, please feel free to send them to my eamil (eric.lee.xiao@gmail.com) "
   ]
  },
  {
   "cell_type": "code",
   "execution_count": 24,
   "metadata": {},
   "outputs": [],
   "source": [
    "import pandas as pd\n",
    "import numpy as np\n",
    "import requests\n",
    "import json\n",
    "import re\n",
    "import os\n",
    "# 以下代码在notebook中运行得不到结果，在PyCharm中可以正常运行。所以在PyCharm中保存数据，再在notebook中进行读取。\n",
    "# url = 'http://service.shmetro.com/skin/js/pca.js'\n",
    "# headers = {\"User-Agent\": \"Mozilla/5.0 (Windows NT 10.0; Win64; x64) AppleWebKit/537.36 (KHTML, like Gecko) Chrome/54.0.2840.99 Safari/537.36\"}\n",
    "\n",
    "# r = requests.get(url, headers=headers)\n",
    "# with open('/home/kuan/Desktop/NLP/week2/sh_metro.html','w') as f:\n",
    "#     f.write(r.text)"
   ]
  },
  {
   "cell_type": "code",
   "execution_count": 25,
   "metadata": {},
   "outputs": [],
   "source": [
    "filename = '/home/kuan/Desktop/NLP/week2/sh_metro.html'\n",
    "with open(filename) as f:\n",
    "    content = ''.join(f.read().split('\\n'))\n",
    "    station_code = re.findall('var stations = {(.*)}var lines = ',content)\n",
    "    lines = re.findall('var lines = {(.*?)}',content)"
   ]
  },
  {
   "cell_type": "code",
   "execution_count": 26,
   "metadata": {},
   "outputs": [],
   "source": [
    "stations = {}\n",
    "for s in station_code[0].split(','):\n",
    "    ss = s.split(':')\n",
    "    stations[ss[0].strip('\"')] = ss[1].strip('\"')"
   ]
  },
  {
   "cell_type": "code",
   "execution_count": 28,
   "metadata": {},
   "outputs": [],
   "source": [
    "lines = lines[0]"
   ]
  },
  {
   "cell_type": "code",
   "execution_count": 29,
   "metadata": {},
   "outputs": [],
   "source": [
    "line_names = re.findall('\\\"(\\w+)\\\":',lines)"
   ]
  },
  {
   "cell_type": "code",
   "execution_count": 30,
   "metadata": {},
   "outputs": [],
   "source": [
    "line_codes = re.findall('(\\[.*?\\])',lines)\n",
    "codes = []\n",
    "for code in line_codes:\n",
    "    codes.append([s.strip('\"') for s in re.findall('\\[(.*)\\]',code)[0].split(\",\")])"
   ]
  },
  {
   "cell_type": "code",
   "execution_count": 31,
   "metadata": {},
   "outputs": [],
   "source": [
    "line_dict = {}\n",
    "for i,name in enumerate(line_names):\n",
    "    line_dict[name] = [stations[c] for c in codes[i]]"
   ]
  },
  {
   "cell_type": "code",
   "execution_count": 32,
   "metadata": {},
   "outputs": [],
   "source": [
    "from collections import defaultdict\n",
    "graph = defaultdict(list)\n",
    "for line, stations_ in line_dict.items():\n",
    "    for i, station in enumerate(stations_):\n",
    "        if i == 0:\n",
    "            graph[station].append(stations_[i+1])\n",
    "        elif i == len(stations_)-1:\n",
    "            graph[station].append(stations_[i-1])\n",
    "        else:\n",
    "            graph[station].append(stations_[i+1])\n",
    "            graph[station].append(stations_[i-1])"
   ]
  },
  {
   "cell_type": "code",
   "execution_count": 33,
   "metadata": {},
   "outputs": [],
   "source": [
    "def bsf(start,end,graph=graph):\n",
    "    paths = [[start]]\n",
    "    visited = set()\n",
    "    \n",
    "    while paths:\n",
    "        path = paths.pop(0)\n",
    "        last = path[-1]\n",
    "        if last in visited:\n",
    "            continue\n",
    "        next_stations = graph[last]\n",
    "        \n",
    "        for station in next_stations:\n",
    "            if station in path:\n",
    "                continue\n",
    "            new_path = path + [station]\n",
    "            paths.append(new_path)\n",
    "            \n",
    "            if station == end:\n",
    "                return new_path\n",
    "        visited.add(last)"
   ]
  },
  {
   "cell_type": "code",
   "execution_count": 34,
   "metadata": {},
   "outputs": [
    {
     "data": {
      "text/plain": [
       "['世纪公园', '上海科技馆', '世纪大道', '东昌路', '陆家嘴', '南京东路', '人民广场', '南京西路', '静安寺']"
      ]
     },
     "execution_count": 34,
     "metadata": {},
     "output_type": "execute_result"
    }
   ],
   "source": [
    "bsf('世纪公园','静安寺')"
   ]
  },
  {
   "cell_type": "code",
   "execution_count": 35,
   "metadata": {},
   "outputs": [
    {
     "name": "stdout",
     "output_type": "stream",
     "text": [
      "From 芦恒路 to 江川路:\n",
      "['芦恒路', '凌兆新村', '东方体育中心', '龙耀路', '云锦路', '龙华', '龙漕路', '漕宝路', '上海南站', '锦江乐园', '莲花路', '外环路', '莘庄', '春申路', '银都路', '颛桥', '北桥', '剑川路', '东川路', '金平路', '华宁路', '文井路', '闵行开发区', '江川路']\n",
      "\n",
      "\n",
      "From 五洲大道 to 醉白池:\n",
      "['五洲大道', '东靖路', '巨峰路', '东陆路', '复兴岛', '爱国路', '隆昌路', '宁国路', '江浦公园', '大连路', '提篮桥', '国际客运中心', '天潼路', '曲阜路', '汉中路', '南京西路', '陕西南路', '嘉善路', '肇嘉浜路', '徐家汇', '宜山路', '桂林路', '漕河泾开发区', '合川路', '星中路', '七宝', '中春路', '九亭', '泗泾', '佘山', '洞泾', '松江大学城', '松江新城', '松江体育中心', '醉白池']\n",
      "\n",
      "\n",
      "From 杨树浦路 to 惠南东:\n",
      "['杨树浦路', '浦东大道', '世纪大道', '上海科技馆', '世纪公园', '龙阳路', '华夏中路', '罗山路', '周浦东', '鹤沙航城', '航头东', '新场', '野生动物园', '惠南', '惠南东']\n",
      "\n",
      "\n",
      "From 虹口足球场 to 创新中路:\n",
      "['虹口足球场', '西藏北路', '中兴路', '曲阜路', '天潼路', '南京东路', '陆家嘴', '东昌路', '世纪大道', '上海科技馆', '世纪公园', '龙阳路', '张江高科', '金科路', '广兰路', '唐镇', '创新中路']\n",
      "\n",
      "\n",
      "From 岚皋路 to 交通大学:\n",
      "['岚皋路', '镇坪路', '曹杨路', '隆德路', '江苏路', '交通大学']\n",
      "\n",
      "\n"
     ]
    }
   ],
   "source": [
    "import random\n",
    "for i in range(5):\n",
    "    s1 = random.choice(list(graph.keys()))\n",
    "    s2 = random.choice(list(graph.keys()))\n",
    "    if s1 != s2:\n",
    "        print(\"From {} to {}:\".format(s1,s2))\n",
    "        print(bsf(s1,s2))\n",
    "        print('\\n')"
   ]
  },
  {
   "cell_type": "code",
   "execution_count": null,
   "metadata": {},
   "outputs": [],
   "source": []
  }
 ],
 "metadata": {
  "kernelspec": {
   "display_name": "Python 3",
   "language": "python",
   "name": "python3"
  },
  "language_info": {
   "codemirror_mode": {
    "name": "ipython",
    "version": 3
   },
   "file_extension": ".py",
   "mimetype": "text/x-python",
   "name": "python",
   "nbconvert_exporter": "python",
   "pygments_lexer": "ipython3",
   "version": "3.5.2"
  }
 },
 "nbformat": 4,
 "nbformat_minor": 2
}
